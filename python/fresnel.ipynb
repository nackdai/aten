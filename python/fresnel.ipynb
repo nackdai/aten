{
 "cells": [
  {
   "cell_type": "code",
   "execution_count": 2,
   "metadata": {},
   "outputs": [],
   "source": [
    "from typing import List, Callable\n",
    "import matplotlib.pyplot as plt\n",
    "import math\n",
    "import inspect"
   ]
  },
  {
   "cell_type": "code",
   "execution_count": 3,
   "metadata": {},
   "outputs": [],
   "source": [
    "def float_range(start: float, end: float, step: float) -> List[float]:\n",
    "    \"\"\"Compute float range from start to end with step.\"\"\"\n",
    "    if step == 0:\n",
    "        raise ValueError('step must not be zero')\n",
    "\n",
    "    # Same behavior as range method.\n",
    "    if abs(step) > abs(start - end):\n",
    "        return [start]\n",
    "    if step > 0 and end - start < 0:\n",
    "        return []\n",
    "    elif step < 0 and end - start > 0:\n",
    "        return []\n",
    "\n",
    "    # Digit for round decimal.\n",
    "    exp = len(str(step).split('.')[1])\n",
    "\n",
    "    result = [start]\n",
    "    val = start\n",
    "    if step > 0:\n",
    "        while (val := round(val + step, exp)) < end:\n",
    "            result.append(val)\n",
    "    else:\n",
    "        while (val := round(val + step, exp)) > end:\n",
    "            result.append(val)\n",
    "    return result\n",
    "\n",
    "def schilick_fresnel_by_f0(cos_i: float, f0: float) -> float:\n",
    "    f0 = f0 * f0\n",
    "    fresnel = f0 + (1 - f0) * pow((1 - cos_i), 5)\n",
    "    return fresnel\n",
    "\n",
    "def schilick_fresnel_by_ior(cos_i: float, ni: float, nt: float) -> float:\n",
    "    f0 = (ni - nt) / (ni + nt)\n",
    "    f0 = f0 * f0\n",
    "    fresnel = schilick_fresnel_by_f0(cos_i, f0)\n",
    "    return fresnel"
   ]
  },
  {
   "cell_type": "code",
   "execution_count": 4,
   "metadata": {},
   "outputs": [
    {
     "data": {
      "text/plain": [
       "[<matplotlib.lines.Line2D at 0x26d259b6420>]"
      ]
     },
     "execution_count": 4,
     "metadata": {},
     "output_type": "execute_result"
    },
    {
     "data": {
      "image/png": "[encoded data removed]",
      "text/plain": [
       "<Figure size 640x480 with 1 Axes>"
      ]
     },
     "metadata": {},
     "output_type": "display_data"
    }
   ],
   "source": [
    "def calc_fresnel(fresnle_func: Callable, frange_degree: List[float], **kwargs) -> List[float]:\n",
    "    arg_num_func = len(inspect.signature(fresnle_func).parameters)\n",
    "    fresnel = []\n",
    "\n",
    "    for theta_degree in frange_degree:\n",
    "        theta = math.radians(theta_degree)\n",
    "        cos_i = math.cos(theta)\n",
    "        if arg_num_func == 2:\n",
    "            f = fresnle_func(cos_i, kwargs[\"f0\"])\n",
    "        else:\n",
    "            f = fresnle_func(cos_i, kwargs[\"ni\"], kwargs[\"nt\"])\n",
    "        fresnel.append(f)\n",
    "\n",
    "    return fresnel\n",
    "\n",
    "frange_degree = float_range(start=0.0, end=90.0, step=1.0)\n",
    "\n",
    "#a = calc_fresnel(schilick_fresnel_by_f0, frange_degree, f0=0.95)\n",
    "a = calc_fresnel(schilick_fresnel_by_ior, frange_degree, ni=1.0, nt=1.5)\n",
    "b = calc_fresnel(schilick_fresnel_by_f0, frange_degree, f0=0.05)\n",
    "\n",
    "plt.plot(frange_degree, a, color=\"red\", label=\"a\")\n",
    "plt.plot(frange_degree, b, color=\"blue\", label=\"b\")"
   ]
  }
 ],
 "metadata": {
  "kernelspec": {
   "display_name": ".venv",
   "language": "python",
   "name": "python3"
  },
  "language_info": {
   "codemirror_mode": {
    "name": "ipython",
    "version": 3
   },
   "file_extension": ".py",
   "mimetype": "text/x-python",
   "name": "python",
   "nbconvert_exporter": "python",
   "pygments_lexer": "ipython3",
   "version": "3.12.7"
  }
 },
 "nbformat": 4,
 "nbformat_minor": 2
}
